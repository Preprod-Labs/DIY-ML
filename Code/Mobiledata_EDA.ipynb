{
  "cells": [
    {
      "cell_type": "markdown",
      "metadata": {
        "id": "J8h92RsYnBzZ"
      },
      "source": [
        "**Data definition:**\n",
        "\n",
        "The dataset contains information on mobile phone sales of a US based ecommerce online start up company from year 2023 and 2024\n",
        "\n",
        "**Data description:**\n",
        "\n",
        "Customer_id: Unique identifier of a customer\n",
        "\n",
        "Brand_name: Mobile phone brand names\n",
        "\n",
        "Screen_size: the diagonal length of mobile phone\n",
        "\n",
        "Battery_capacity: The amount of battery power available to run the mobile phone\n",
        "\n",
        "Ram_size: the temporary memory size in mobile phone to run applications\n",
        "\n",
        "Storage_capacity: the permanent memory size in mobile phone to run applications\n",
        "\n",
        "Purchase_date: The date of customer purchase\n",
        "\n",
        "Price: The price of the mobile phone\n",
        "\n",
        "Payment_type: Describes how customer pays\n",
        "\n",
        "Units_sold: The no of units sold  \n"
      ]
    },
    {
      "cell_type": "markdown",
      "metadata": {
        "id": "C_Rl9xKP1-2E"
      },
      "source": [
        "# Exploratory Data Analysis"
      ]
    },
    {
      "cell_type": "markdown",
      "metadata": {
        "id": "1O-HWYPC2DHJ"
      },
      "source": [
        "### Import foundational libraries"
      ]
    },
    {
      "cell_type": "code",
      "execution_count": 1,
      "metadata": {
        "id": "W8MIjr3cICHe"
      },
      "outputs": [],
      "source": [
        "import numpy as np # Numerical computation library\n",
        "import pandas as pd # Data manipulation library"
      ]
    },
    {
      "cell_type": "markdown",
      "metadata": {
        "id": "1fH-J7r-2VKw"
      },
      "source": [
        "### Import visualisation libraries"
      ]
    },
    {
      "cell_type": "code",
      "execution_count": 4,
      "metadata": {
        "id": "f7NM1nsikPSz"
      },
      "outputs": [],
      "source": [
        "import matplotlib as plt # matplotlib is a foundational visualisation library\n",
        "import seaborn as sns # visualisation library based on matplotlib"
      ]
    },
    {
      "cell_type": "markdown",
      "metadata": {
        "id": "IRPhQwG224Jq"
      },
      "source": [
        "### Import data"
      ]
    },
    {
      "cell_type": "code",
      "execution_count": 5,
      "metadata": {},
      "outputs": [],
      "source": [
        "path=input(\"Enter the path of data:\")"
      ]
    },
    {
      "cell_type": "code",
      "execution_count": 6,
      "metadata": {
        "id": "6BXrND9YVn2L"
      },
      "outputs": [],
      "source": [
        "df=pd.read_csv(path+\"Mobileprice.csv\")"
      ]
    },
    {
      "cell_type": "code",
      "execution_count": 7,
      "metadata": {
        "id": "wQmtqa_LlGde"
      },
      "outputs": [],
      "source": [
        "eda_df=df.copy(deep=True) # copy data from original dataframe to second dataframe so that changes do not affect original dataset"
      ]
    },
    {
      "cell_type": "code",
      "execution_count": 8,
      "metadata": {
        "colab": {
          "base_uri": "https://localhost:8080/",
          "height": 204
        },
        "id": "Kn6aT9LzYUfy",
        "outputId": "424c0b63-85dc-4306-b197-7aa43c1c7a47"
      },
      "outputs": [
        {
          "data": {
            "text/html": [
              "<div>\n",
              "<style scoped>\n",
              "    .dataframe tbody tr th:only-of-type {\n",
              "        vertical-align: middle;\n",
              "    }\n",
              "\n",
              "    .dataframe tbody tr th {\n",
              "        vertical-align: top;\n",
              "    }\n",
              "\n",
              "    .dataframe thead th {\n",
              "        text-align: right;\n",
              "    }\n",
              "</style>\n",
              "<table border=\"1\" class=\"dataframe\">\n",
              "  <thead>\n",
              "    <tr style=\"text-align: right;\">\n",
              "      <th></th>\n",
              "      <th>Customer_id</th>\n",
              "      <th>Brand_name</th>\n",
              "      <th>Screen_size</th>\n",
              "      <th>Battery_capacity</th>\n",
              "      <th>Ram_size</th>\n",
              "      <th>Storage_capacity</th>\n",
              "      <th>Purchase_date</th>\n",
              "      <th>Price</th>\n",
              "      <th>Payment_type</th>\n",
              "      <th>Units_sold</th>\n",
              "    </tr>\n",
              "  </thead>\n",
              "  <tbody>\n",
              "    <tr>\n",
              "      <th>0</th>\n",
              "      <td>4382JV</td>\n",
              "      <td>Apple</td>\n",
              "      <td>7.5</td>\n",
              "      <td>11250</td>\n",
              "      <td>12</td>\n",
              "      <td>512</td>\n",
              "      <td>2023/09/23</td>\n",
              "      <td>791</td>\n",
              "      <td>paypal</td>\n",
              "      <td>3532</td>\n",
              "    </tr>\n",
              "    <tr>\n",
              "      <th>1</th>\n",
              "      <td>tCTYRh</td>\n",
              "      <td>Xiaomi</td>\n",
              "      <td>7.7</td>\n",
              "      <td>11550</td>\n",
              "      <td>12</td>\n",
              "      <td>512</td>\n",
              "      <td>2023/06/13</td>\n",
              "      <td>792</td>\n",
              "      <td>credit card</td>\n",
              "      <td>3400</td>\n",
              "    </tr>\n",
              "    <tr>\n",
              "      <th>2</th>\n",
              "      <td>Mx77Cv</td>\n",
              "      <td>Xiaomi</td>\n",
              "      <td>6.0</td>\n",
              "      <td>9000</td>\n",
              "      <td>9</td>\n",
              "      <td>32</td>\n",
              "      <td>2024/04/25</td>\n",
              "      <td>66</td>\n",
              "      <td>cash</td>\n",
              "      <td>1638</td>\n",
              "    </tr>\n",
              "    <tr>\n",
              "      <th>3</th>\n",
              "      <td>2J38jY</td>\n",
              "      <td>Samsung</td>\n",
              "      <td>5.5</td>\n",
              "      <td>8250</td>\n",
              "      <td>9</td>\n",
              "      <td>250</td>\n",
              "      <td>2023/03/08</td>\n",
              "      <td>392</td>\n",
              "      <td>paypal</td>\n",
              "      <td>1176</td>\n",
              "    </tr>\n",
              "    <tr>\n",
              "      <th>4</th>\n",
              "      <td>r2Hh39</td>\n",
              "      <td>Oppo</td>\n",
              "      <td>4.9</td>\n",
              "      <td>7350</td>\n",
              "      <td>8</td>\n",
              "      <td>64</td>\n",
              "      <td>2023/03/31</td>\n",
              "      <td>111</td>\n",
              "      <td>credit card</td>\n",
              "      <td>2802</td>\n",
              "    </tr>\n",
              "  </tbody>\n",
              "</table>\n",
              "</div>"
            ],
            "text/plain": [
              "  Customer_id Brand_name  Screen_size  Battery_capacity  Ram_size  \\\n",
              "0      4382JV      Apple          7.5             11250        12   \n",
              "1      tCTYRh     Xiaomi          7.7             11550        12   \n",
              "2      Mx77Cv     Xiaomi          6.0              9000         9   \n",
              "3      2J38jY    Samsung          5.5              8250         9   \n",
              "4      r2Hh39       Oppo          4.9              7350         8   \n",
              "\n",
              "   Storage_capacity Purchase_date  Price Payment_type  Units_sold  \n",
              "0               512    2023/09/23    791       paypal        3532  \n",
              "1               512    2023/06/13    792  credit card        3400  \n",
              "2                32    2024/04/25     66         cash        1638  \n",
              "3               250    2023/03/08    392       paypal        1176  \n",
              "4                64    2023/03/31    111  credit card        2802  "
            ]
          },
          "execution_count": 8,
          "metadata": {},
          "output_type": "execute_result"
        }
      ],
      "source": [
        "eda_df.head() # sample the first 5 rows"
      ]
    },
    {
      "cell_type": "markdown",
      "metadata": {
        "id": "j5l_SfNP3jNy"
      },
      "source": [
        "Extract date time values into month and year columns"
      ]
    },
    {
      "cell_type": "code",
      "execution_count": 9,
      "metadata": {
        "id": "3U2udel-i340"
      },
      "outputs": [],
      "source": [
        "eda_df['Purchase_date']=pd.to_datetime(eda_df['Purchase_date'],errors='coerce') #convert purchase date to date time format"
      ]
    },
    {
      "cell_type": "code",
      "execution_count": 10,
      "metadata": {
        "id": "wpCToXUZi32W"
      },
      "outputs": [],
      "source": [
        "eda_df['month']=eda_df['Purchase_date'].dt.month #extract month feature"
      ]
    },
    {
      "cell_type": "code",
      "execution_count": 11,
      "metadata": {
        "id": "Z1QEIFRCi3zl"
      },
      "outputs": [],
      "source": [
        "eda_df['year']=eda_df['Purchase_date'].dt.year #extract year feature"
      ]
    },
    {
      "cell_type": "markdown",
      "metadata": {
        "id": "MpsoJvIk3y_t"
      },
      "source": [
        "visualise the year and month features and drop purchase date as it is no longer needed for visualisation"
      ]
    },
    {
      "cell_type": "code",
      "execution_count": 12,
      "metadata": {
        "colab": {
          "base_uri": "https://localhost:8080/",
          "height": 204
        },
        "id": "j6zToo1mi3RQ",
        "outputId": "88478406-7b92-4c6c-cbd1-ce807862cf97"
      },
      "outputs": [
        {
          "data": {
            "text/html": [
              "<div>\n",
              "<style scoped>\n",
              "    .dataframe tbody tr th:only-of-type {\n",
              "        vertical-align: middle;\n",
              "    }\n",
              "\n",
              "    .dataframe tbody tr th {\n",
              "        vertical-align: top;\n",
              "    }\n",
              "\n",
              "    .dataframe thead th {\n",
              "        text-align: right;\n",
              "    }\n",
              "</style>\n",
              "<table border=\"1\" class=\"dataframe\">\n",
              "  <thead>\n",
              "    <tr style=\"text-align: right;\">\n",
              "      <th></th>\n",
              "      <th>Customer_id</th>\n",
              "      <th>Brand_name</th>\n",
              "      <th>Screen_size</th>\n",
              "      <th>Battery_capacity</th>\n",
              "      <th>Ram_size</th>\n",
              "      <th>Storage_capacity</th>\n",
              "      <th>Purchase_date</th>\n",
              "      <th>Price</th>\n",
              "      <th>Payment_type</th>\n",
              "      <th>Units_sold</th>\n",
              "      <th>month</th>\n",
              "      <th>year</th>\n",
              "    </tr>\n",
              "  </thead>\n",
              "  <tbody>\n",
              "    <tr>\n",
              "      <th>0</th>\n",
              "      <td>4382JV</td>\n",
              "      <td>Apple</td>\n",
              "      <td>7.5</td>\n",
              "      <td>11250</td>\n",
              "      <td>12</td>\n",
              "      <td>512</td>\n",
              "      <td>2023-09-23</td>\n",
              "      <td>791</td>\n",
              "      <td>paypal</td>\n",
              "      <td>3532</td>\n",
              "      <td>9</td>\n",
              "      <td>2023</td>\n",
              "    </tr>\n",
              "    <tr>\n",
              "      <th>1</th>\n",
              "      <td>tCTYRh</td>\n",
              "      <td>Xiaomi</td>\n",
              "      <td>7.7</td>\n",
              "      <td>11550</td>\n",
              "      <td>12</td>\n",
              "      <td>512</td>\n",
              "      <td>2023-06-13</td>\n",
              "      <td>792</td>\n",
              "      <td>credit card</td>\n",
              "      <td>3400</td>\n",
              "      <td>6</td>\n",
              "      <td>2023</td>\n",
              "    </tr>\n",
              "    <tr>\n",
              "      <th>2</th>\n",
              "      <td>Mx77Cv</td>\n",
              "      <td>Xiaomi</td>\n",
              "      <td>6.0</td>\n",
              "      <td>9000</td>\n",
              "      <td>9</td>\n",
              "      <td>32</td>\n",
              "      <td>2024-04-25</td>\n",
              "      <td>66</td>\n",
              "      <td>cash</td>\n",
              "      <td>1638</td>\n",
              "      <td>4</td>\n",
              "      <td>2024</td>\n",
              "    </tr>\n",
              "    <tr>\n",
              "      <th>3</th>\n",
              "      <td>2J38jY</td>\n",
              "      <td>Samsung</td>\n",
              "      <td>5.5</td>\n",
              "      <td>8250</td>\n",
              "      <td>9</td>\n",
              "      <td>250</td>\n",
              "      <td>2023-03-08</td>\n",
              "      <td>392</td>\n",
              "      <td>paypal</td>\n",
              "      <td>1176</td>\n",
              "      <td>3</td>\n",
              "      <td>2023</td>\n",
              "    </tr>\n",
              "    <tr>\n",
              "      <th>4</th>\n",
              "      <td>r2Hh39</td>\n",
              "      <td>Oppo</td>\n",
              "      <td>4.9</td>\n",
              "      <td>7350</td>\n",
              "      <td>8</td>\n",
              "      <td>64</td>\n",
              "      <td>2023-03-31</td>\n",
              "      <td>111</td>\n",
              "      <td>credit card</td>\n",
              "      <td>2802</td>\n",
              "      <td>3</td>\n",
              "      <td>2023</td>\n",
              "    </tr>\n",
              "  </tbody>\n",
              "</table>\n",
              "</div>"
            ],
            "text/plain": [
              "  Customer_id Brand_name  Screen_size  Battery_capacity  Ram_size  \\\n",
              "0      4382JV      Apple          7.5             11250        12   \n",
              "1      tCTYRh     Xiaomi          7.7             11550        12   \n",
              "2      Mx77Cv     Xiaomi          6.0              9000         9   \n",
              "3      2J38jY    Samsung          5.5              8250         9   \n",
              "4      r2Hh39       Oppo          4.9              7350         8   \n",
              "\n",
              "   Storage_capacity Purchase_date  Price Payment_type  Units_sold  month  year  \n",
              "0               512    2023-09-23    791       paypal        3532      9  2023  \n",
              "1               512    2023-06-13    792  credit card        3400      6  2023  \n",
              "2                32    2024-04-25     66         cash        1638      4  2024  \n",
              "3               250    2023-03-08    392       paypal        1176      3  2023  \n",
              "4                64    2023-03-31    111  credit card        2802      3  2023  "
            ]
          },
          "execution_count": 12,
          "metadata": {},
          "output_type": "execute_result"
        }
      ],
      "source": [
        "eda_df.head()"
      ]
    },
    {
      "cell_type": "code",
      "execution_count": 13,
      "metadata": {
        "id": "laglE3eVmYS_"
      },
      "outputs": [],
      "source": [
        "eda_df.drop('Purchase_date',axis=1,inplace=True)"
      ]
    },
    {
      "cell_type": "markdown",
      "metadata": {
        "id": "GtjVSc9v3-X-"
      },
      "source": [
        "### PLOTS"
      ]
    },
    {
      "cell_type": "code",
      "execution_count": 14,
      "metadata": {
        "id": "GyXBfeU6i9DC"
      },
      "outputs": [],
      "source": [
        "# 1. Statistical analysis"
      ]
    },
    {
      "cell_type": "code",
      "execution_count": 15,
      "metadata": {
        "colab": {
          "base_uri": "https://localhost:8080/",
          "height": 297
        },
        "id": "c7cxDLKui9AO",
        "outputId": "839039c3-6f94-44b6-8748-1966ea1460f0"
      },
      "outputs": [
        {
          "data": {
            "text/html": [
              "<div>\n",
              "<style scoped>\n",
              "    .dataframe tbody tr th:only-of-type {\n",
              "        vertical-align: middle;\n",
              "    }\n",
              "\n",
              "    .dataframe tbody tr th {\n",
              "        vertical-align: top;\n",
              "    }\n",
              "\n",
              "    .dataframe thead th {\n",
              "        text-align: right;\n",
              "    }\n",
              "</style>\n",
              "<table border=\"1\" class=\"dataframe\">\n",
              "  <thead>\n",
              "    <tr style=\"text-align: right;\">\n",
              "      <th></th>\n",
              "      <th>count</th>\n",
              "      <th>mean</th>\n",
              "      <th>std</th>\n",
              "      <th>min</th>\n",
              "      <th>25%</th>\n",
              "      <th>50%</th>\n",
              "      <th>75%</th>\n",
              "      <th>max</th>\n",
              "    </tr>\n",
              "  </thead>\n",
              "  <tbody>\n",
              "    <tr>\n",
              "      <th>Screen_size</th>\n",
              "      <td>1000.0</td>\n",
              "      <td>5.9539</td>\n",
              "      <td>1.168816</td>\n",
              "      <td>4.0</td>\n",
              "      <td>4.9</td>\n",
              "      <td>6.0</td>\n",
              "      <td>7.00</td>\n",
              "      <td>8.0</td>\n",
              "    </tr>\n",
              "    <tr>\n",
              "      <th>Battery_capacity</th>\n",
              "      <td>1000.0</td>\n",
              "      <td>8930.8500</td>\n",
              "      <td>1753.224051</td>\n",
              "      <td>6000.0</td>\n",
              "      <td>7350.0</td>\n",
              "      <td>9000.0</td>\n",
              "      <td>10500.00</td>\n",
              "      <td>12000.0</td>\n",
              "    </tr>\n",
              "    <tr>\n",
              "      <th>Ram_size</th>\n",
              "      <td>1000.0</td>\n",
              "      <td>9.4240</td>\n",
              "      <td>1.747363</td>\n",
              "      <td>6.0</td>\n",
              "      <td>8.0</td>\n",
              "      <td>9.0</td>\n",
              "      <td>11.00</td>\n",
              "      <td>12.0</td>\n",
              "    </tr>\n",
              "    <tr>\n",
              "      <th>Storage_capacity</th>\n",
              "      <td>1000.0</td>\n",
              "      <td>290.7260</td>\n",
              "      <td>181.585115</td>\n",
              "      <td>32.0</td>\n",
              "      <td>128.0</td>\n",
              "      <td>250.0</td>\n",
              "      <td>512.00</td>\n",
              "      <td>512.0</td>\n",
              "    </tr>\n",
              "    <tr>\n",
              "      <th>Price</th>\n",
              "      <td>1000.0</td>\n",
              "      <td>454.4620</td>\n",
              "      <td>272.319971</td>\n",
              "      <td>60.0</td>\n",
              "      <td>210.0</td>\n",
              "      <td>394.0</td>\n",
              "      <td>784.00</td>\n",
              "      <td>792.0</td>\n",
              "    </tr>\n",
              "    <tr>\n",
              "      <th>Units_sold</th>\n",
              "      <td>1000.0</td>\n",
              "      <td>3013.0470</td>\n",
              "      <td>1160.241203</td>\n",
              "      <td>1009.0</td>\n",
              "      <td>1977.0</td>\n",
              "      <td>3047.0</td>\n",
              "      <td>4004.25</td>\n",
              "      <td>4999.0</td>\n",
              "    </tr>\n",
              "    <tr>\n",
              "      <th>month</th>\n",
              "      <td>1000.0</td>\n",
              "      <td>5.4740</td>\n",
              "      <td>3.327822</td>\n",
              "      <td>1.0</td>\n",
              "      <td>3.0</td>\n",
              "      <td>5.0</td>\n",
              "      <td>8.00</td>\n",
              "      <td>12.0</td>\n",
              "    </tr>\n",
              "    <tr>\n",
              "      <th>year</th>\n",
              "      <td>1000.0</td>\n",
              "      <td>2023.2950</td>\n",
              "      <td>0.456271</td>\n",
              "      <td>2023.0</td>\n",
              "      <td>2023.0</td>\n",
              "      <td>2023.0</td>\n",
              "      <td>2024.00</td>\n",
              "      <td>2024.0</td>\n",
              "    </tr>\n",
              "  </tbody>\n",
              "</table>\n",
              "</div>"
            ],
            "text/plain": [
              "                   count       mean          std     min     25%     50%  \\\n",
              "Screen_size       1000.0     5.9539     1.168816     4.0     4.9     6.0   \n",
              "Battery_capacity  1000.0  8930.8500  1753.224051  6000.0  7350.0  9000.0   \n",
              "Ram_size          1000.0     9.4240     1.747363     6.0     8.0     9.0   \n",
              "Storage_capacity  1000.0   290.7260   181.585115    32.0   128.0   250.0   \n",
              "Price             1000.0   454.4620   272.319971    60.0   210.0   394.0   \n",
              "Units_sold        1000.0  3013.0470  1160.241203  1009.0  1977.0  3047.0   \n",
              "month             1000.0     5.4740     3.327822     1.0     3.0     5.0   \n",
              "year              1000.0  2023.2950     0.456271  2023.0  2023.0  2023.0   \n",
              "\n",
              "                       75%      max  \n",
              "Screen_size           7.00      8.0  \n",
              "Battery_capacity  10500.00  12000.0  \n",
              "Ram_size             11.00     12.0  \n",
              "Storage_capacity    512.00    512.0  \n",
              "Price               784.00    792.0  \n",
              "Units_sold         4004.25   4999.0  \n",
              "month                 8.00     12.0  \n",
              "year               2024.00   2024.0  "
            ]
          },
          "execution_count": 15,
          "metadata": {},
          "output_type": "execute_result"
        }
      ],
      "source": [
        "eda_df.describe().T"
      ]
    },
    {
      "cell_type": "markdown",
      "metadata": {
        "id": "jpgLZ2fK4BjT"
      },
      "source": [
        "Describe function defines the statistical information from the numerical columns of the dataset"
      ]
    },
    {
      "cell_type": "code",
      "execution_count": 16,
      "metadata": {
        "id": "zP-8yA2yi89r"
      },
      "outputs": [],
      "source": [
        "#2.Check the number of missing values"
      ]
    },
    {
      "cell_type": "code",
      "execution_count": 17,
      "metadata": {
        "colab": {
          "base_uri": "https://localhost:8080/"
        },
        "id": "aCzUV4Fei86u",
        "outputId": "619ec836-23fd-4de6-a91a-194208fa330a"
      },
      "outputs": [
        {
          "data": {
            "text/plain": [
              "Customer_id         0\n",
              "Brand_name          0\n",
              "Screen_size         0\n",
              "Battery_capacity    0\n",
              "Ram_size            0\n",
              "Storage_capacity    0\n",
              "Price               0\n",
              "Payment_type        0\n",
              "Units_sold          0\n",
              "month               0\n",
              "year                0\n",
              "dtype: int64"
            ]
          },
          "execution_count": 17,
          "metadata": {},
          "output_type": "execute_result"
        }
      ],
      "source": [
        "eda_df.isnull().sum()"
      ]
    },
    {
      "cell_type": "markdown",
      "metadata": {
        "id": "vySVRtv94laJ"
      },
      "source": [
        "there are no missing values in the data"
      ]
    },
    {
      "cell_type": "code",
      "execution_count": 18,
      "metadata": {
        "id": "DoWnVXdii813"
      },
      "outputs": [],
      "source": [
        "#3.check the data types and no of entries in each column"
      ]
    },
    {
      "cell_type": "code",
      "execution_count": 19,
      "metadata": {
        "colab": {
          "base_uri": "https://localhost:8080/"
        },
        "id": "2MgFJ6Qhi8zB",
        "outputId": "827e4062-a563-4784-b0df-3cd1c6f079b7"
      },
      "outputs": [
        {
          "name": "stdout",
          "output_type": "stream",
          "text": [
            "<class 'pandas.core.frame.DataFrame'>\n",
            "RangeIndex: 1000 entries, 0 to 999\n",
            "Data columns (total 11 columns):\n",
            " #   Column            Non-Null Count  Dtype  \n",
            "---  ------            --------------  -----  \n",
            " 0   Customer_id       1000 non-null   object \n",
            " 1   Brand_name        1000 non-null   object \n",
            " 2   Screen_size       1000 non-null   float64\n",
            " 3   Battery_capacity  1000 non-null   int64  \n",
            " 4   Ram_size          1000 non-null   int64  \n",
            " 5   Storage_capacity  1000 non-null   int64  \n",
            " 6   Price             1000 non-null   int64  \n",
            " 7   Payment_type      1000 non-null   object \n",
            " 8   Units_sold        1000 non-null   int64  \n",
            " 9   month             1000 non-null   int32  \n",
            " 10  year              1000 non-null   int32  \n",
            "dtypes: float64(1), int32(2), int64(5), object(3)\n",
            "memory usage: 78.2+ KB\n"
          ]
        }
      ],
      "source": [
        "eda_df.info()"
      ]
    },
    {
      "cell_type": "markdown",
      "metadata": {
        "id": "nrYzoTwk4o5O"
      },
      "source": [
        "there are a mix of numerical and categorical features"
      ]
    },
    {
      "cell_type": "code",
      "execution_count": 20,
      "metadata": {
        "id": "lsSk-na-i8tt"
      },
      "outputs": [],
      "source": [
        "#4.Univariate analysis"
      ]
    },
    {
      "cell_type": "code",
      "execution_count": 21,
      "metadata": {
        "id": "OehB85zWnE6O"
      },
      "outputs": [],
      "source": [
        "#Distribution of screensize"
      ]
    },
    {
      "cell_type": "code",
      "execution_count": 22,
      "metadata": {
        "colab": {
          "base_uri": "https://localhost:8080/",
          "height": 467
        },
        "id": "DcNyEyhenE3y",
        "outputId": "9da98d0c-be6a-4791-c629-72590f743914"
      },
      "outputs": [
        {
          "data": {
            "text/plain": [
              "<Axes: xlabel='Screen_size', ylabel='Count'>"
            ]
          },
          "execution_count": 22,
          "metadata": {},
          "output_type": "execute_result"
        },
        {
          "data": {
            "image/png": "[encoded data removed]",
            "text/plain": [
              "<Figure size 640x480 with 1 Axes>"
            ]
          },
          "metadata": {},
          "output_type": "display_data"
        }
      ],
      "source": [
        "sns.histplot(eda_df['Screen_size'])"
      ]
    },
    {
      "cell_type": "markdown",
      "metadata": {
        "id": "-qxhJWg34x_x"
      },
      "source": [
        "Around 4.0 and 7.5 inch are the most preffered screensize among all brands"
      ]
    },
    {
      "cell_type": "code",
      "execution_count": 23,
      "metadata": {
        "colab": {
          "base_uri": "https://localhost:8080/",
          "height": 467
        },
        "id": "W80CnJLSneVw",
        "outputId": "b5777a9a-3038-4c23-bc9e-1e4d0880769c"
      },
      "outputs": [
        {
          "data": {
            "text/plain": [
              "<Axes: xlabel='Battery_capacity', ylabel='Count'>"
            ]
          },
          "execution_count": 23,
          "metadata": {},
          "output_type": "execute_result"
        },
        {
          "data": {
            "image/png": "[encoded data removed]",
            "text/plain": [
              "<Figure size 640x480 with 1 Axes>"
            ]
          },
          "metadata": {},
          "output_type": "display_data"
        }
      ],
      "source": [
        "sns.histplot(eda_df['Battery_capacity'])"
      ]
    },
    {
      "cell_type": "markdown",
      "metadata": {
        "id": "O8KcPSJ15DH1"
      },
      "source": [
        "6000 mah is the most common battery capacity"
      ]
    },
    {
      "cell_type": "code",
      "execution_count": 24,
      "metadata": {
        "colab": {
          "base_uri": "https://localhost:8080/",
          "height": 467
        },
        "id": "rNycTz5AnE1L",
        "outputId": "06435435-dc14-44c7-c61a-0fe68fb747e3"
      },
      "outputs": [
        {
          "data": {
            "text/plain": [
              "<Axes: xlabel='Storage_capacity', ylabel='Count'>"
            ]
          },
          "execution_count": 24,
          "metadata": {},
          "output_type": "execute_result"
        },
        {
          "data": {
            "image/png": "[encoded data removed]",
            "text/plain": [
              "<Figure size 640x480 with 1 Axes>"
            ]
          },
          "metadata": {},
          "output_type": "display_data"
        }
      ],
      "source": [
        "sns.histplot(eda_df['Storage_capacity'])"
      ]
    },
    {
      "cell_type": "markdown",
      "metadata": {
        "id": "NVmiYufc5KII"
      },
      "source": [
        "250 GB is the popular storage capacity"
      ]
    },
    {
      "cell_type": "code",
      "execution_count": 25,
      "metadata": {
        "colab": {
          "base_uri": "https://localhost:8080/",
          "height": 466
        },
        "id": "aNBPeSawnEyk",
        "outputId": "6dee3bb2-a23b-4df0-ba2d-2125c450ff3a"
      },
      "outputs": [
        {
          "data": {
            "text/plain": [
              "<Axes: xlabel='Price', ylabel='Count'>"
            ]
          },
          "execution_count": 25,
          "metadata": {},
          "output_type": "execute_result"
        },
        {
          "data": {
            "image/png": "[encoded data removed]",
            "text/plain": [
              "<Figure size 640x480 with 1 Axes>"
            ]
          },
          "metadata": {},
          "output_type": "display_data"
        }
      ],
      "source": [
        "sns.histplot(eda_df['Price'])"
      ]
    },
    {
      "cell_type": "markdown",
      "metadata": {
        "id": "lGc5CRk05Ti8"
      },
      "source": [
        "300 to 450 dollars is the most preffered price point to purchase mobile phones"
      ]
    },
    {
      "cell_type": "code",
      "execution_count": 26,
      "metadata": {
        "colab": {
          "base_uri": "https://localhost:8080/",
          "height": 447
        },
        "id": "3dtdpI3RnEv-",
        "outputId": "a7f0a881-bebc-4051-b48b-77c83769e53b"
      },
      "outputs": [
        {
          "data": {
            "text/plain": [
              "<Axes: ylabel='Payment_type'>"
            ]
          },
          "execution_count": 26,
          "metadata": {},
          "output_type": "execute_result"
        },
        {
          "data": {
            "image/png": "[encoded data removed]",
            "text/plain": [
              "<Figure size 640x480 with 1 Axes>"
            ]
          },
          "metadata": {},
          "output_type": "display_data"
        }
      ],
      "source": [
        "eda_df.groupby('Payment_type').size().plot(kind='barh', color=sns.palettes.mpl_palette('Dark2'))"
      ]
    },
    {
      "cell_type": "markdown",
      "metadata": {
        "id": "xHuCJ2Bt5a6f"
      },
      "source": [
        "Customers prefer to pay on credit card the most"
      ]
    },
    {
      "cell_type": "code",
      "execution_count": 27,
      "metadata": {
        "colab": {
          "base_uri": "https://localhost:8080/",
          "height": 447
        },
        "id": "4hu3rr5rnEtg",
        "outputId": "d1854a1a-fd02-4d9b-f5d1-cd0411b980a7"
      },
      "outputs": [
        {
          "data": {
            "text/plain": [
              "<Axes: ylabel='Brand_name'>"
            ]
          },
          "execution_count": 27,
          "metadata": {},
          "output_type": "execute_result"
        },
        {
          "data": {
            "image/png": "[encoded data removed]",
            "text/plain": [
              "<Figure size 640x480 with 1 Axes>"
            ]
          },
          "metadata": {},
          "output_type": "display_data"
        }
      ],
      "source": [
        "eda_df.groupby('Brand_name').size().plot(kind='barh', color=sns.palettes.mpl_palette('Dark2'))"
      ]
    },
    {
      "cell_type": "markdown",
      "metadata": {
        "id": "FoZJ53LL5hzT"
      },
      "source": [
        "Xiaomi is the most popular mobile phone purchased by customer"
      ]
    },
    {
      "cell_type": "code",
      "execution_count": 28,
      "metadata": {
        "colab": {
          "base_uri": "https://localhost:8080/",
          "height": 469
        },
        "id": "oiyvyaIXnEnn",
        "outputId": "6dce735a-123b-42a2-dbe3-01ae931d4d7a"
      },
      "outputs": [
        {
          "data": {
            "text/plain": [
              "<Axes: title={'center': 'Ram_size'}, ylabel='Frequency'>"
            ]
          },
          "execution_count": 28,
          "metadata": {},
          "output_type": "execute_result"
        },
        {
          "data": {
            "image/png": "[encoded data removed]",
            "text/plain": [
              "<Figure size 640x480 with 1 Axes>"
            ]
          },
          "metadata": {},
          "output_type": "display_data"
        }
      ],
      "source": [
        "eda_df['Ram_size'].plot(kind='hist', bins=20, title='Ram_size')"
      ]
    },
    {
      "cell_type": "markdown",
      "metadata": {
        "id": "TxyExfIg5ngn"
      },
      "source": [
        "8 GB RAM is the most common RAM size preffered by customer"
      ]
    },
    {
      "cell_type": "code",
      "execution_count": 66,
      "metadata": {
        "id": "dwib6lUzqivp"
      },
      "outputs": [],
      "source": [
        "# BIVARIATE ANALYSIS"
      ]
    },
    {
      "cell_type": "code",
      "execution_count": 29,
      "metadata": {
        "colab": {
          "base_uri": "https://localhost:8080/",
          "height": 466
        },
        "id": "VVHO8Zi4qiqO",
        "outputId": "955f324b-f2e2-4c03-c8fd-16886f8bda65"
      },
      "outputs": [
        {
          "data": {
            "text/plain": [
              "<Axes: xlabel='month', ylabel='Units_sold'>"
            ]
          },
          "execution_count": 29,
          "metadata": {},
          "output_type": "execute_result"
        },
        {
          "data": {
            "image/png": "[encoded data removed]",
            "text/plain": [
              "<Figure size 640x480 with 1 Axes>"
            ]
          },
          "metadata": {},
          "output_type": "display_data"
        }
      ],
      "source": [
        "sns.barplot(x=eda_df['month'],y=eda_df['Units_sold'])"
      ]
    },
    {
      "cell_type": "markdown",
      "metadata": {
        "id": "L3uyFwqA5uc0"
      },
      "source": [
        "In the month of july , mobile phone has sold the most among all months"
      ]
    },
    {
      "cell_type": "code",
      "execution_count": 30,
      "metadata": {
        "colab": {
          "base_uri": "https://localhost:8080/",
          "height": 466
        },
        "id": "Bk-EHxsWskvf",
        "outputId": "32e08d43-2fd5-4584-a4d7-9e437fb3493d"
      },
      "outputs": [
        {
          "data": {
            "text/plain": [
              "<Axes: xlabel='year', ylabel='Units_sold'>"
            ]
          },
          "execution_count": 30,
          "metadata": {},
          "output_type": "execute_result"
        },
        {
          "data": {
            "image/png": "[encoded data removed]",
            "text/plain": [
              "<Figure size 640x480 with 1 Axes>"
            ]
          },
          "metadata": {},
          "output_type": "display_data"
        }
      ],
      "source": [
        "sns.barplot(x=eda_df['year'],y=eda_df['Units_sold'])"
      ]
    },
    {
      "cell_type": "markdown",
      "metadata": {
        "id": "5DM_20FR54_y"
      },
      "source": [
        "though 2024 is still midway, the no of units sold is comparable to 2023"
      ]
    },
    {
      "cell_type": "code",
      "execution_count": 31,
      "metadata": {
        "colab": {
          "base_uri": "https://localhost:8080/",
          "height": 466
        },
        "id": "KlCAUkiXs8E9",
        "outputId": "37140114-7bac-4277-f324-bc6ae235cf5c"
      },
      "outputs": [
        {
          "data": {
            "text/plain": [
              "<Axes: xlabel='month', ylabel='Price'>"
            ]
          },
          "execution_count": 31,
          "metadata": {},
          "output_type": "execute_result"
        },
        {
          "data": {
            "image/png": "[encoded data removed]",
            "text/plain": [
              "<Figure size 640x480 with 1 Axes>"
            ]
          },
          "metadata": {},
          "output_type": "display_data"
        }
      ],
      "source": [
        "sns.barplot(x=eda_df['month'],y=eda_df['Price'])"
      ]
    },
    {
      "cell_type": "markdown",
      "metadata": {
        "id": "fDePUJAt6BUZ"
      },
      "source": [
        "Highest priced mobile phone is sold in August"
      ]
    },
    {
      "cell_type": "code",
      "execution_count": 32,
      "metadata": {
        "colab": {
          "base_uri": "https://localhost:8080/",
          "height": 467
        },
        "id": "HEIlq8sqvKBw",
        "outputId": "a1b88586-7a3e-45e5-ca21-11c3636bc09e"
      },
      "outputs": [
        {
          "data": {
            "text/plain": [
              "<Axes: xlabel='Brand_name', ylabel='Price'>"
            ]
          },
          "execution_count": 32,
          "metadata": {},
          "output_type": "execute_result"
        },
        {
          "data": {
            "image/png": "[encoded data removed]",
            "text/plain": [
              "<Figure size 640x480 with 1 Axes>"
            ]
          },
          "metadata": {},
          "output_type": "display_data"
        }
      ],
      "source": [
        "sns.barplot(x=eda_df['Brand_name'],y=eda_df['Price'])"
      ]
    },
    {
      "cell_type": "markdown",
      "metadata": {
        "id": "Sw3trveM6ezR"
      },
      "source": [
        "Oneplus has highest priced flagship mobile phone as per the dataset"
      ]
    },
    {
      "cell_type": "markdown",
      "metadata": {},
      "source": [
        "### HEATMAP"
      ]
    },
    {
      "cell_type": "code",
      "execution_count": 35,
      "metadata": {
        "id": "zErbnk0VuW7w"
      },
      "outputs": [],
      "source": [
        "heat_df=eda_df[['Screen_size','Battery_capacity',\n",
        "       'Ram_size', 'Storage_capacity', 'Price','Units_sold',\n",
        "       'month', 'year']] # extracting numerical features to check the corelation "
      ]
    },
    {
      "cell_type": "code",
      "execution_count": 36,
      "metadata": {
        "id": "zMGGoNfluzbP"
      },
      "outputs": [],
      "source": [
        "corr=heat_df.corr() # apply corrleation feature on the dataframe"
      ]
    },
    {
      "cell_type": "code",
      "execution_count": 37,
      "metadata": {
        "colab": {
          "base_uri": "https://localhost:8080/",
          "height": 559
        },
        "id": "3ZOhBFvzu4pU",
        "outputId": "41eab457-68d7-4baf-9b12-409d9665fb0f"
      },
      "outputs": [
        {
          "data": {
            "text/plain": [
              "<Axes: >"
            ]
          },
          "execution_count": 37,
          "metadata": {},
          "output_type": "execute_result"
        },
        {
          "data": {
            "image/png": "[encoded data removed]",
            "text/plain": [
              "<Figure size 640x480 with 2 Axes>"
            ]
          },
          "metadata": {},
          "output_type": "display_data"
        }
      ],
      "source": [
        "sns.heatmap(corr) #visualise the heatmap "
      ]
    },
    {
      "cell_type": "markdown",
      "metadata": {
        "id": "GfRUa6_O7CeO"
      },
      "source": [
        "Screen_size, Battery_capacity, Ram_size are highly correlated with each other\n",
        "\n",
        "Price and storage capacity are correlated with each other"
      ]
    }
  ],
  "metadata": {
    "colab": {
      "provenance": []
    },
    "kernelspec": {
      "display_name": "Python 3",
      "name": "python3"
    },
    "language_info": {
      "codemirror_mode": {
        "name": "ipython",
        "version": 3
      },
      "file_extension": ".py",
      "mimetype": "text/x-python",
      "name": "python",
      "nbconvert_exporter": "python",
      "pygments_lexer": "ipython3",
      "version": "3.10.13"
    }
  },
  "nbformat": 4,
  "nbformat_minor": 0
}
